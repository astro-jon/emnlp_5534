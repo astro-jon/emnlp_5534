{
 "cells": [
  {
   "cell_type": "code",
   "execution_count": 9,
   "metadata": {},
   "outputs": [],
   "source": [
    "import pandas as pd\n",
    "import statsmodels.formula.api as smf\n",
    "from cfg import CFG\n",
    "import numpy as np\n",
    "from scipy.stats import pearsonr"
   ]
  },
  {
   "cell_type": "code",
   "execution_count": 27,
   "metadata": {},
   "outputs": [],
   "source": [
    "bs = 16\n",
    "lr = 1e-5"
   ]
  },
  {
   "cell_type": "code",
   "execution_count": 28,
   "metadata": {},
   "outputs": [
    {
     "name": "stdout",
     "output_type": "stream",
     "text": [
      "                            OLS Regression Results                            \n",
      "==============================================================================\n",
      "Dep. Variable:                      y   R-squared:                       0.031\n",
      "Model:                            OLS   Adj. R-squared:                  0.030\n",
      "Method:                 Least Squares   F-statistic:                     224.8\n",
      "Date:                Wed, 06 Sep 2023   Prob (F-statistic):          2.50e-190\n",
      "Time:                        14:41:21   Log-Likelihood:                -24291.\n",
      "No. Observations:               28470   AIC:                         4.859e+04\n",
      "Df Residuals:                   28465   BIC:                         4.863e+04\n",
      "Df Model:                           4                                         \n",
      "Covariance Type:            nonrobust                                         \n",
      "==============================================================================\n",
      "                 coef    std err          t      P>|t|      [0.025      0.975]\n",
      "------------------------------------------------------------------------------\n",
      "Intercept      0.3988      0.016     25.027      0.000       0.368       0.430\n",
      "X[0]           0.1441      0.021      6.964      0.000       0.104       0.185\n",
      "X[1]           3.3384      0.140     23.815      0.000       3.064       3.613\n",
      "X[2]           0.1483      0.017      8.719      0.000       0.115       0.182\n",
      "X[3]           0.1098      0.010     11.269      0.000       0.091       0.129\n",
      "==============================================================================\n",
      "Omnibus:                     5245.305   Durbin-Watson:                   1.916\n",
      "Prob(Omnibus):                  0.000   Jarque-Bera (JB):             2484.745\n",
      "Skew:                           0.567   Prob(JB):                         0.00\n",
      "Kurtosis:                       2.100   Cond. No.                         58.0\n",
      "==============================================================================\n",
      "\n",
      "Notes:\n",
      "[1] Standard Errors assume that the covariance matrix of the errors is correctly specified.\n"
     ]
    }
   ],
   "source": [
    "data = pd.read_csv(f'../data/bigbird_bs{bs}_lr{lr}.csv')\n",
    "Ｘ = data.iloc[:, 3:7]\n",
    "y = data.iloc[:, 2:3]\n",
    "model = smf.ols('y~X', data=data).fit()\n",
    "print(model.summary())"
   ]
  },
  {
   "cell_type": "code",
   "execution_count": 29,
   "metadata": {},
   "outputs": [
    {
     "data": {
      "text/html": [
       "<div>\n",
       "<style scoped>\n",
       "    .dataframe tbody tr th:only-of-type {\n",
       "        vertical-align: middle;\n",
       "    }\n",
       "\n",
       "    .dataframe tbody tr th {\n",
       "        vertical-align: top;\n",
       "    }\n",
       "\n",
       "    .dataframe thead th {\n",
       "        text-align: right;\n",
       "    }\n",
       "</style>\n",
       "<table border=\"1\" class=\"dataframe\">\n",
       "  <thead>\n",
       "    <tr style=\"text-align: right;\">\n",
       "      <th></th>\n",
       "      <th>item_id</th>\n",
       "      <th>softmax</th>\n",
       "      <th>shannonent</th>\n",
       "      <th>avg_word_embedding</th>\n",
       "      <th>avg_sentence_embedding</th>\n",
       "      <th>lenvenshtein</th>\n",
       "      <th>pos</th>\n",
       "    </tr>\n",
       "  </thead>\n",
       "  <tbody>\n",
       "    <tr>\n",
       "      <th>0</th>\n",
       "      <td>7048_0</td>\n",
       "      <td>[0.7837331891059875, 0.005570510867983103, 0.2...</td>\n",
       "      <td>0.791519</td>\n",
       "      <td>0.519230</td>\n",
       "      <td>0.000852</td>\n",
       "      <td>0.302778</td>\n",
       "      <td>1.000000</td>\n",
       "    </tr>\n",
       "    <tr>\n",
       "      <th>1</th>\n",
       "      <td>7048_1</td>\n",
       "      <td>[0.9926437735557556, 9.530778334010392e-05, 0....</td>\n",
       "      <td>0.063673</td>\n",
       "      <td>0.186091</td>\n",
       "      <td>0.000736</td>\n",
       "      <td>0.548942</td>\n",
       "      <td>1.000000</td>\n",
       "    </tr>\n",
       "    <tr>\n",
       "      <th>2</th>\n",
       "      <td>7048_2</td>\n",
       "      <td>[2.0860426957369782e-05, 0.006974176503717899,...</td>\n",
       "      <td>0.089148</td>\n",
       "      <td>0.226973</td>\n",
       "      <td>0.000661</td>\n",
       "      <td>0.000000</td>\n",
       "      <td>1.000000</td>\n",
       "    </tr>\n",
       "    <tr>\n",
       "      <th>3</th>\n",
       "      <td>7048_3</td>\n",
       "      <td>[0.001094010309316218, 0.0016074816230684519, ...</td>\n",
       "      <td>0.090308</td>\n",
       "      <td>0.156507</td>\n",
       "      <td>0.000431</td>\n",
       "      <td>0.309524</td>\n",
       "      <td>0.666667</td>\n",
       "    </tr>\n",
       "    <tr>\n",
       "      <th>4</th>\n",
       "      <td>7048_4</td>\n",
       "      <td>[0.00015024287858977914, 0.0001121808527386747...</td>\n",
       "      <td>0.011499</td>\n",
       "      <td>0.409096</td>\n",
       "      <td>0.005162</td>\n",
       "      <td>0.211111</td>\n",
       "      <td>1.000000</td>\n",
       "    </tr>\n",
       "  </tbody>\n",
       "</table>\n",
       "</div>"
      ],
      "text/plain": [
       "  item_id                                            softmax  shannonent  \\\n",
       "0  7048_0  [0.7837331891059875, 0.005570510867983103, 0.2...    0.791519   \n",
       "1  7048_1  [0.9926437735557556, 9.530778334010392e-05, 0....    0.063673   \n",
       "2  7048_2  [2.0860426957369782e-05, 0.006974176503717899,...    0.089148   \n",
       "3  7048_3  [0.001094010309316218, 0.0016074816230684519, ...    0.090308   \n",
       "4  7048_4  [0.00015024287858977914, 0.0001121808527386747...    0.011499   \n",
       "\n",
       "   avg_word_embedding  avg_sentence_embedding  lenvenshtein       pos  \n",
       "0            0.519230                0.000852      0.302778  1.000000  \n",
       "1            0.186091                0.000736      0.548942  1.000000  \n",
       "2            0.226973                0.000661      0.000000  1.000000  \n",
       "3            0.156507                0.000431      0.309524  0.666667  \n",
       "4            0.409096                0.005162      0.211111  1.000000  "
      ]
     },
     "execution_count": 29,
     "metadata": {},
     "output_type": "execute_result"
    }
   ],
   "source": [
    "data.head()"
   ]
  },
  {
   "cell_type": "code",
   "execution_count": 30,
   "metadata": {},
   "outputs": [
    {
     "name": "stdout",
     "output_type": "stream",
     "text": [
      "avg_word_embedding的皮尔逊相关系数: 0.066597\n",
      "avg_sentence_embedding的皮尔逊相关系数: 0.153885\n",
      "lenvenshtein的皮尔逊相关系数: 0.024419\n",
      "pos的皮尔逊相关系数: 0.052160\n"
     ]
    }
   ],
   "source": [
    "avg_word_embedding = np.array(data['avg_word_embedding'])\n",
    "avg_sentence_embedding = np.array(data['avg_sentence_embedding'])\n",
    "lenvenshtein = np.array(data['lenvenshtein'])\n",
    "pos = np.array(data['pos'])\n",
    "y = np.array(data['shannonent'])\n",
    "avg_word_embedding_pc = pearsonr(avg_word_embedding, y)\n",
    "avg_sentence_embedding_pc = pearsonr(avg_sentence_embedding, y)\n",
    "lenvenshtein_pc = pearsonr(lenvenshtein, y)\n",
    "pos_pc = pearsonr(pos, y)\n",
    "print('avg_word_embedding的皮尔逊相关系数: %f'%avg_word_embedding_pc[0])\n",
    "print('avg_sentence_embedding的皮尔逊相关系数: %f'%avg_sentence_embedding_pc[0])\n",
    "print('lenvenshtein的皮尔逊相关系数: %f'%lenvenshtein_pc[0])\n",
    "print('pos的皮尔逊相关系数: %f'%pos_pc[0])"
   ]
  },
  {
   "cell_type": "code",
   "execution_count": 31,
   "metadata": {},
   "outputs": [],
   "source": [
    "# Min–max normalization\n",
    "def min_max_y(raw_data):\n",
    "    min_max_data = []\n",
    "\n",
    "    # Min–max normalization\n",
    "    for d in raw_data:\n",
    "        min_max_data.append((d - min(raw_data)) / (max(raw_data) - min(raw_data)))\n",
    "    return min_max_data"
   ]
  },
  {
   "cell_type": "code",
   "execution_count": 34,
   "metadata": {},
   "outputs": [
    {
     "name": "stdout",
     "output_type": "stream",
     "text": [
      "avg_word_embedding的皮尔逊相关系数: 0.066597\n",
      "avg_sentence_embedding的皮尔逊相关系数: 0.153885\n",
      "lenvenshtein的皮尔逊相关系数: 0.024419\n",
      "pos的皮尔逊相关系数: 0.052160\n"
     ]
    }
   ],
   "source": [
    "avg_word_embedding = np.array(min_max_y(avg_word_embedding))\n",
    "avg_sentence_embedding = np.array(min_max_y(avg_sentence_embedding))\n",
    "lenvenshtein = np.array(min_max_y(lenvenshtein))\n",
    "y = np.array(min_max_y(y))\n",
    "avg_word_embedding_pc = pearsonr(avg_word_embedding, y)\n",
    "avg_sentence_embedding_pc = pearsonr(avg_sentence_embedding, y)\n",
    "lenvenshtein_pc = pearsonr(lenvenshtein, y)\n",
    "pos_pc = pearsonr(pos, y)\n",
    "print('avg_word_embedding的皮尔逊相关系数: %f'%avg_word_embedding_pc[0])\n",
    "print('avg_sentence_embedding的皮尔逊相关系数: %f'%avg_sentence_embedding_pc[0])\n",
    "print('lenvenshtein的皮尔逊相关系数: %f'%lenvenshtein_pc[0])\n",
    "print('pos的皮尔逊相关系数: %f'%pos_pc[0])"
   ]
  },
  {
   "cell_type": "code",
   "execution_count": 43,
   "metadata": {},
   "outputs": [],
   "source": [
    "bs16_lr1e4_data = pd.read_csv('../data/bigbird_bs16_lr0.0001.csv')\n",
    "bs16_lr1e5_data = pd.read_csv('../data/bigbird_bs16_lr1e-05.csv')\n",
    "bs16_lr3e5_data = pd.read_csv('../data/bigbird_bs16_lr3e-05.csv')\n",
    "bs32_lr1e4_data = pd.read_csv('../data/bigbird_bs32_lr0.0001.csv')\n",
    "bs32_lr1e5_data = pd.read_csv('../data/bigbird_bs32_lr1e-05.csv')\n",
    "bs32_lr3e5_data = pd.read_csv('../data/bigbird_bs32_lr3e-05.csv')"
   ]
  },
  {
   "cell_type": "code",
   "execution_count": 45,
   "metadata": {},
   "outputs": [],
   "source": [
    "bs16_lr1e4_shannonent = bs16_lr1e4_data['shannonent']\n",
    "bs16_lr1e5_shannonent = bs16_lr1e5_data['shannonent']\n",
    "bs16_lr3e5_shannonent = bs16_lr3e5_data['shannonent']\n",
    "bs32_lr1e4_shannonent = bs32_lr1e4_data['shannonent']\n",
    "bs32_lr1e5_shannonent = bs32_lr1e5_data['shannonent']\n",
    "bs32_lr3e5_shannonent = bs32_lr3e5_data['shannonent']"
   ]
  },
  {
   "cell_type": "code",
   "execution_count": 51,
   "metadata": {},
   "outputs": [
    {
     "data": {
      "text/plain": [
       "0        1.744295\n",
       "1        1.598728\n",
       "2        1.776917\n",
       "3        1.493887\n",
       "4        1.758952\n",
       "           ...   \n",
       "28465    0.102373\n",
       "28466    0.803554\n",
       "28467    0.125443\n",
       "28468    1.000170\n",
       "28469    0.406574\n",
       "Name: shannonent, Length: 28470, dtype: float64"
      ]
     },
     "execution_count": 51,
     "metadata": {},
     "output_type": "execute_result"
    }
   ],
   "source": [
    "bs16_lr1e4_shannonent"
   ]
  },
  {
   "cell_type": "code",
   "execution_count": 54,
   "metadata": {},
   "outputs": [
    {
     "data": {
      "text/plain": [
       "array([1.07274489, 0.67058023, 0.8485948 , ..., 0.29146528, 0.58866186,\n",
       "       0.42268864])"
      ]
     },
     "execution_count": 54,
     "metadata": {},
     "output_type": "execute_result"
    }
   ],
   "source": [
    "avg_shannonent = (bs16_lr1e4_shannonent+bs16_lr1e5_shannonent+bs16_lr3e5_shannonent+bs32_lr1e4_shannonent+bs32_lr1e5_shannonent+bs32_lr3e5_shannonent)/6\n",
    "y = np.array(avg_shannonent)\n",
    "y"
   ]
  },
  {
   "cell_type": "code",
   "execution_count": 55,
   "metadata": {},
   "outputs": [
    {
     "name": "stdout",
     "output_type": "stream",
     "text": [
      "avg_word_embedding的皮尔逊相关系数: 0.045465\n",
      "avg_sentence_embedding的皮尔逊相关系数: 0.139386\n",
      "lenvenshtein的皮尔逊相关系数: 0.030787\n",
      "pos的皮尔逊相关系数: 0.061197\n"
     ]
    }
   ],
   "source": [
    "avg_word_embedding_pc = pearsonr(avg_word_embedding, y)\n",
    "avg_sentence_embedding_pc = pearsonr(avg_sentence_embedding, y)\n",
    "lenvenshtein_pc = pearsonr(lenvenshtein, y)\n",
    "pos_pc = pearsonr(pos, y)\n",
    "print('avg_word_embedding的皮尔逊相关系数: %f'%avg_word_embedding_pc[0])\n",
    "print('avg_sentence_embedding的皮尔逊相关系数: %f'%avg_sentence_embedding_pc[0])\n",
    "print('lenvenshtein的皮尔逊相关系数: %f'%lenvenshtein_pc[0])\n",
    "print('pos的皮尔逊相关系数: %f'%pos_pc[0])"
   ]
  },
  {
   "cell_type": "code",
   "execution_count": 73,
   "metadata": {},
   "outputs": [
    {
     "name": "stdout",
     "output_type": "stream",
     "text": [
      "Group 1: 2\n",
      "Group 2: 13\n",
      "Group 3: 339\n",
      "Group 4: 2252\n",
      "Group 5: 1845\n",
      "Group 6: 2111\n",
      "Group 7: 3148\n",
      "Group 8: 2435\n",
      "Group 9: 1967\n",
      "Group 10: 1879\n",
      "Group 11: 1863\n",
      "Group 12: 1787\n",
      "Group 13: 1745\n",
      "Group 14: 1654\n",
      "Group 15: 1569\n",
      "Group 16: 1359\n",
      "Group 17: 1129\n",
      "Group 18: 845\n",
      "Group 19: 420\n",
      "Group 20: 108\n"
     ]
    }
   ],
   "source": [
    "bins = np.arange(0, 2.1, 0.1)\n",
    "counts, _ = np.histogram(avg_shannonent, bins)\n",
    "for i in range(len(counts)):\n",
    "    print(f\"Group {i+1}: {counts[i]}\")"
   ]
  },
  {
   "cell_type": "code",
   "execution_count": 74,
   "metadata": {},
   "outputs": [],
   "source": [
    "import matplotlib.pyplot as plt"
   ]
  },
  {
   "cell_type": "code",
   "execution_count": 94,
   "metadata": {},
   "outputs": [
    {
     "data": {
      "text/plain": [
       "[0.0,\n",
       " 0.1,\n",
       " 0.2,\n",
       " 0.30000000000000004,\n",
       " 0.4,\n",
       " 0.5,\n",
       " 0.6000000000000001,\n",
       " 0.7000000000000001,\n",
       " 0.8,\n",
       " 0.9,\n",
       " 1.0,\n",
       " 1.1,\n",
       " 1.2000000000000002,\n",
       " 1.3,\n",
       " 1.4000000000000001,\n",
       " 1.5,\n",
       " 1.6,\n",
       " 1.7000000000000002,\n",
       " 1.8,\n",
       " 1.9000000000000001,\n",
       " 2.0]"
      ]
     },
     "execution_count": 94,
     "metadata": {},
     "output_type": "execute_result"
    }
   ],
   "source": [
    "x = [x*0.1 for x in range(0, 21)]\n",
    "x"
   ]
  },
  {
   "cell_type": "code",
   "execution_count": 96,
   "metadata": {},
   "outputs": [
    {
     "data": {
      "text/plain": [
       "array([   2,   13,  339, 2252, 1845, 2111, 3148, 2435, 1967, 1879, 1863,\n",
       "       1787, 1745, 1654, 1569, 1359, 1129,  845,  420,  108])"
      ]
     },
     "execution_count": 96,
     "metadata": {},
     "output_type": "execute_result"
    }
   ],
   "source": [
    "counts"
   ]
  },
  {
   "cell_type": "code",
   "execution_count": 101,
   "metadata": {},
   "outputs": [
    {
     "data": {
      "image/png": "[encoded data removed]",
      "text/plain": [
       "<Figure size 640x480 with 1 Axes>"
      ]
     },
     "metadata": {},
     "output_type": "display_data"
    }
   ],
   "source": [
    "plt.plot(np.arange(0, 2, 0.1), counts)\n",
    "plt.xlabel('shannonent')\n",
    "plt.ylabel('counts')\n",
    "plt.show()\n"
   ]
  },
  {
   "cell_type": "code",
   "execution_count": null,
   "metadata": {},
   "outputs": [],
   "source": []
  }
 ],
 "metadata": {
  "kernelspec": {
   "display_name": "sentence_bert_baseline",
   "language": "python",
   "name": "sentence_bert_baseline"
  },
  "language_info": {
   "codemirror_mode": {
    "name": "ipython",
    "version": 3
   },
   "file_extension": ".py",
   "mimetype": "text/x-python",
   "name": "python",
   "nbconvert_exporter": "python",
   "pygments_lexer": "ipython3",
   "version": "3.8.16"
  }
 },
 "nbformat": 4,
 "nbformat_minor": 2
}
